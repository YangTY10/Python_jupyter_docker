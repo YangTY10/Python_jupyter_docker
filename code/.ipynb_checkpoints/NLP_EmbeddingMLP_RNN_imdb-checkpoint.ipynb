{
 "cells": [
  {
   "cell_type": "code",
   "execution_count": 1,
   "metadata": {},
   "outputs": [],
   "source": [
    "# urlretrieve 直接結合 urlopen + file.write 幫你做完儲存工作\n",
    "from urllib.request import urlretrieve\n",
    "import os\n",
    "# MAC 要加入這段, SSL 證書才不會被視為無效\n",
    "import ssl\n",
    "ssl._create_default_https_context = ssl._create_unverified_context"
   ]
  },
  {
   "cell_type": "code",
   "execution_count": 2,
   "metadata": {},
   "outputs": [],
   "source": [
    "url = \"http://ai.stanford.edu/~amaas/data/sentiment/aclImdb_v1.tar.gz\"\n",
    "# 如果 imda_data 資料夾不存在就現在建立\n",
    "if not os.path.exists(\"./imdb_data\"):\n",
    "    print(\"imdb_data 資料夾不存在, 現在建立!!!\")\n",
    "    os.mkdir(\"./imdb_data\")"
   ]
  },
  {
   "cell_type": "code",
   "execution_count": 3,
   "metadata": {},
   "outputs": [
    {
     "name": "stdout",
     "output_type": "stream",
     "text": [
      "已下載過!!!\n"
     ]
    }
   ],
   "source": [
    "# 如果還沒下載過資料就現在下載\n",
    "filepath = \"./imdb_data/imdb.tar.gz\"\n",
    "if not os.path.exists(filepath):\n",
    "    print(\"還沒下載過資料, 現在下載!!!\")\n",
    "    urlretrieve(url, filepath)\n",
    "else:\n",
    "    print(\"已下載過!!!\")"
   ]
  },
  {
   "cell_type": "code",
   "execution_count": 4,
   "metadata": {},
   "outputs": [
    {
     "name": "stdout",
     "output_type": "stream",
     "text": [
      "已解壓縮過!!!\n"
     ]
    }
   ],
   "source": [
    "# 使用內建 tarfile 解壓縮\n",
    "import tarfile\n",
    "if not os.path.exists(\"./imdb_data/aclImdb\"):\n",
    "    print(\"還沒解壓縮過, 現在解壓縮!!!\")\n",
    "    tfile = tarfile.open(filepath, \"r\")\n",
    "    tfile.extractall(\"imdb_data\")\n",
    "else:\n",
    "    print(\"已解壓縮過!!!\")"
   ]
  },
  {
   "cell_type": "code",
   "execution_count": 5,
   "metadata": {},
   "outputs": [],
   "source": [
    "import pandas as pd"
   ]
  },
  {
   "cell_type": "code",
   "execution_count": 6,
   "metadata": {},
   "outputs": [],
   "source": [
    "pd.set_option('display.max_rows', 15)\n",
    "pd.set_option('display.max_columns', 10)"
   ]
  },
  {
   "cell_type": "code",
   "execution_count": 7,
   "metadata": {},
   "outputs": [],
   "source": [
    "train_df = pd.DataFrame( columns = [\"content\", \"sentiment\"] )\n",
    "# 走過 pos 的資料夾,把資料夾整理好\n",
    "pos_path= \"imdb_data/aclImdb/train/pos\"\n",
    "# os.listdir(path) -> 回傳 path 中所有內容的串列,預設為當前路徑\n",
    "for fpath in os.listdir(pos_path):\n",
    "    if not fpath.startswith(\".\"):\n",
    "        # os.path.join(dirpath, filename) -> 將 dirpath 與 filename 結合,無需自行判斷要用 '\\\\' 或 '/'\n",
    "        fpath = os.path.join(pos_path, fpath)\n",
    "        f = open(fpath, \"r\", encoding = \"utf-8\")\n",
    "        content = f.read()\n",
    "        s = pd.Series([content, 1], index = [\"content\", \"sentiment\"])\n",
    "        train_df = train_df.append(s, ignore_index = True)"
   ]
  },
  {
   "cell_type": "code",
   "execution_count": 8,
   "metadata": {},
   "outputs": [],
   "source": [
    "# 走過 neg 的資料夾,把資料夾整理好\n",
    "neg_path = \"imdb_data/aclImdb/train/neg\"\n",
    "# os.listdir(path) -> 回傳 path 中所有內容的串列,預設為當前路徑\n",
    "for fpath in os.listdir(neg_path):\n",
    "    if not fpath.startswith(\".\"):\n",
    "        # os.path.join(dirpath, filename) -> 將 dirpath 與 filename 結合,無需自行判斷要用 '\\\\' 或 '/'\n",
    "        fpath = os.path.join(neg_path, fpath)\n",
    "        f = open(fpath, \"r\", encoding = \"utf-8\")\n",
    "        content = f.read()\n",
    "        s = pd.Series([content, 0], index = [\"content\", \"sentiment\"])\n",
    "        train_df = train_df.append(s, ignore_index = True)"
   ]
  },
  {
   "cell_type": "code",
   "execution_count": 9,
   "metadata": {},
   "outputs": [
    {
     "data": {
      "text/html": [
       "<div>\n",
       "<style scoped>\n",
       "    .dataframe tbody tr th:only-of-type {\n",
       "        vertical-align: middle;\n",
       "    }\n",
       "\n",
       "    .dataframe tbody tr th {\n",
       "        vertical-align: top;\n",
       "    }\n",
       "\n",
       "    .dataframe thead th {\n",
       "        text-align: right;\n",
       "    }\n",
       "</style>\n",
       "<table border=\"1\" class=\"dataframe\">\n",
       "  <thead>\n",
       "    <tr style=\"text-align: right;\">\n",
       "      <th></th>\n",
       "      <th>content</th>\n",
       "      <th>sentiment</th>\n",
       "    </tr>\n",
       "  </thead>\n",
       "  <tbody>\n",
       "    <tr>\n",
       "      <th>0</th>\n",
       "      <td>For a movie that gets no respect there sure ar...</td>\n",
       "      <td>1</td>\n",
       "    </tr>\n",
       "    <tr>\n",
       "      <th>1</th>\n",
       "      <td>Bizarre horror movie filled with famous faces ...</td>\n",
       "      <td>1</td>\n",
       "    </tr>\n",
       "    <tr>\n",
       "      <th>2</th>\n",
       "      <td>A solid, if unremarkable film. Matthau, as Ein...</td>\n",
       "      <td>1</td>\n",
       "    </tr>\n",
       "    <tr>\n",
       "      <th>3</th>\n",
       "      <td>It's a strange feeling to sit alone in a theat...</td>\n",
       "      <td>1</td>\n",
       "    </tr>\n",
       "    <tr>\n",
       "      <th>4</th>\n",
       "      <td>You probably all already know this by now, but...</td>\n",
       "      <td>1</td>\n",
       "    </tr>\n",
       "    <tr>\n",
       "      <th>5</th>\n",
       "      <td>I saw the movie with two grown children. Altho...</td>\n",
       "      <td>1</td>\n",
       "    </tr>\n",
       "    <tr>\n",
       "      <th>6</th>\n",
       "      <td>You're using the IMDb.&lt;br /&gt;&lt;br /&gt;You've given...</td>\n",
       "      <td>1</td>\n",
       "    </tr>\n",
       "    <tr>\n",
       "      <th>...</th>\n",
       "      <td>...</td>\n",
       "      <td>...</td>\n",
       "    </tr>\n",
       "    <tr>\n",
       "      <th>24993</th>\n",
       "      <td>&lt;br /&gt;&lt;br /&gt;According to reviewers, the year i...</td>\n",
       "      <td>0</td>\n",
       "    </tr>\n",
       "    <tr>\n",
       "      <th>24994</th>\n",
       "      <td>Richard Farnsworth is one of my favorite actor...</td>\n",
       "      <td>0</td>\n",
       "    </tr>\n",
       "    <tr>\n",
       "      <th>24995</th>\n",
       "      <td>My comments may be a bit of a spoiler, for wha...</td>\n",
       "      <td>0</td>\n",
       "    </tr>\n",
       "    <tr>\n",
       "      <th>24996</th>\n",
       "      <td>The \"saucy\" misadventures of four au pairs who...</td>\n",
       "      <td>0</td>\n",
       "    </tr>\n",
       "    <tr>\n",
       "      <th>24997</th>\n",
       "      <td>Oh, those Italians! Assuming that movies about...</td>\n",
       "      <td>0</td>\n",
       "    </tr>\n",
       "    <tr>\n",
       "      <th>24998</th>\n",
       "      <td>Eight academy nominations? It's beyond belief....</td>\n",
       "      <td>0</td>\n",
       "    </tr>\n",
       "    <tr>\n",
       "      <th>24999</th>\n",
       "      <td>Not that I dislike childrens movies, but this ...</td>\n",
       "      <td>0</td>\n",
       "    </tr>\n",
       "  </tbody>\n",
       "</table>\n",
       "<p>25000 rows × 2 columns</p>\n",
       "</div>"
      ],
      "text/plain": [
       "                                                 content sentiment\n",
       "0      For a movie that gets no respect there sure ar...         1\n",
       "1      Bizarre horror movie filled with famous faces ...         1\n",
       "2      A solid, if unremarkable film. Matthau, as Ein...         1\n",
       "3      It's a strange feeling to sit alone in a theat...         1\n",
       "4      You probably all already know this by now, but...         1\n",
       "5      I saw the movie with two grown children. Altho...         1\n",
       "6      You're using the IMDb.<br /><br />You've given...         1\n",
       "...                                                  ...       ...\n",
       "24993  <br /><br />According to reviewers, the year i...         0\n",
       "24994  Richard Farnsworth is one of my favorite actor...         0\n",
       "24995  My comments may be a bit of a spoiler, for wha...         0\n",
       "24996  The \"saucy\" misadventures of four au pairs who...         0\n",
       "24997  Oh, those Italians! Assuming that movies about...         0\n",
       "24998  Eight academy nominations? It's beyond belief....         0\n",
       "24999  Not that I dislike childrens movies, but this ...         0\n",
       "\n",
       "[25000 rows x 2 columns]"
      ]
     },
     "execution_count": 9,
     "metadata": {},
     "output_type": "execute_result"
    }
   ],
   "source": [
    "train_df"
   ]
  },
  {
   "cell_type": "code",
   "execution_count": 10,
   "metadata": {},
   "outputs": [],
   "source": [
    "test_df = pd.DataFrame( columns = [\"content\", \"sentiment\"] )\n",
    "# 走過 pos 的資料夾,把資料夾整理好\n",
    "pos_path= \"imdb_data/aclImdb/test/pos\"\n",
    "# os.listdir(path) -> 回傳 path 中所有內容的串列,預設為當前路徑\n",
    "for fpath in os.listdir(pos_path):\n",
    "    if not fpath.startswith(\".\"):\n",
    "        # os.path.join(dirpath, filename) -> 將 dirpath 與 filename 結合,無需自行判斷要用 '\\\\' 或 '/'\n",
    "        fpath = os.path.join(pos_path, fpath)\n",
    "        f = open(fpath, \"r\", encoding = \"utf-8\")\n",
    "        content = f.read()\n",
    "        s = pd.Series([content, 1], index = [\"content\", \"sentiment\"])\n",
    "        test_df = test_df.append(s, ignore_index = True)"
   ]
  },
  {
   "cell_type": "code",
   "execution_count": 11,
   "metadata": {},
   "outputs": [],
   "source": [
    "# 走過 neg 的資料夾,把資料夾整理好\n",
    "neg_path = \"imdb_data/aclImdb/test/neg\"\n",
    "# os.listdir(path) -> 回傳 path 中所有內容的串列,預設為當前路徑\n",
    "for fpath in os.listdir(neg_path):\n",
    "    if not fpath.startswith(\".\"):\n",
    "        # os.path.join(dirpath, filename) -> 將 dirpath 與 filename 結合,無需自行判斷要用 '\\\\' 或 '/'\n",
    "        fpath = os.path.join(neg_path, fpath)\n",
    "        f = open(fpath, \"r\", encoding = \"utf-8\")\n",
    "        content = f.read()\n",
    "        s = pd.Series([content, 0], index = [\"content\", \"sentiment\"])\n",
    "        test_df = test_df.append(s, ignore_index = True)"
   ]
  },
  {
   "cell_type": "markdown",
   "metadata": {},
   "source": [
    "將我們訓練資料找出最常見的 2000 字拿來建立出 2000 維度的字典。"
   ]
  },
  {
   "cell_type": "code",
   "execution_count": 12,
   "metadata": {
    "collapsed": true
   },
   "outputs": [
    {
     "name": "stdout",
     "output_type": "stream",
     "text": [
      "Requirement already satisfied: keras in /opt/conda/lib/python3.6/site-packages (2.2.4)\n",
      "Requirement already satisfied: keras-applications>=1.0.6 in /opt/conda/lib/python3.6/site-packages (from keras) (1.0.6)\n",
      "Requirement already satisfied: pyyaml in /opt/conda/lib/python3.6/site-packages (from keras) (3.13)\n",
      "Requirement already satisfied: h5py in /opt/conda/lib/python3.6/site-packages (from keras) (2.7.1)\n",
      "Requirement already satisfied: numpy>=1.9.1 in /opt/conda/lib/python3.6/site-packages (from keras) (1.13.3)\n",
      "Requirement already satisfied: six>=1.9.0 in /opt/conda/lib/python3.6/site-packages (from keras) (1.12.0)\n",
      "Requirement already satisfied: scipy>=0.14 in /opt/conda/lib/python3.6/site-packages (from keras) (1.1.0)\n",
      "Requirement already satisfied: keras-preprocessing>=1.0.5 in /opt/conda/lib/python3.6/site-packages (from keras) (1.0.5)\n",
      "Requirement already satisfied: tensorflow in /opt/conda/lib/python3.6/site-packages (1.12.0)\n",
      "Requirement already satisfied: keras-preprocessing>=1.0.5 in /opt/conda/lib/python3.6/site-packages (from tensorflow) (1.0.5)\n",
      "Requirement already satisfied: protobuf>=3.6.1 in /opt/conda/lib/python3.6/site-packages (from tensorflow) (3.6.1)\n",
      "Requirement already satisfied: six>=1.10.0 in /opt/conda/lib/python3.6/site-packages (from tensorflow) (1.12.0)\n",
      "Requirement already satisfied: absl-py>=0.1.6 in /opt/conda/lib/python3.6/site-packages (from tensorflow) (0.6.1)\n",
      "Requirement already satisfied: tensorboard<1.13.0,>=1.12.0 in /opt/conda/lib/python3.6/site-packages (from tensorflow) (1.12.1)\n",
      "Requirement already satisfied: astor>=0.6.0 in /opt/conda/lib/python3.6/site-packages (from tensorflow) (0.7.1)\n",
      "Requirement already satisfied: gast>=0.2.0 in /opt/conda/lib/python3.6/site-packages (from tensorflow) (0.2.0)\n",
      "Requirement already satisfied: keras-applications>=1.0.6 in /opt/conda/lib/python3.6/site-packages (from tensorflow) (1.0.6)\n",
      "Requirement already satisfied: numpy>=1.13.3 in /opt/conda/lib/python3.6/site-packages (from tensorflow) (1.13.3)\n",
      "Requirement already satisfied: termcolor>=1.1.0 in /opt/conda/lib/python3.6/site-packages (from tensorflow) (1.1.0)\n",
      "Requirement already satisfied: wheel>=0.26 in /opt/conda/lib/python3.6/site-packages (from tensorflow) (0.32.3)\n",
      "Requirement already satisfied: grpcio>=1.8.6 in /opt/conda/lib/python3.6/site-packages (from tensorflow) (1.17.1)\n",
      "Requirement already satisfied: setuptools in /opt/conda/lib/python3.6/site-packages (from protobuf>=3.6.1->tensorflow) (40.6.3)\n",
      "Requirement already satisfied: markdown>=2.6.8 in /opt/conda/lib/python3.6/site-packages (from tensorboard<1.13.0,>=1.12.0->tensorflow) (3.0.1)\n",
      "Requirement already satisfied: werkzeug>=0.11.10 in /opt/conda/lib/python3.6/site-packages (from tensorboard<1.13.0,>=1.12.0->tensorflow) (0.14.1)\n",
      "Requirement already satisfied: h5py in /opt/conda/lib/python3.6/site-packages (from keras-applications>=1.0.6->tensorflow) (2.7.1)\n"
     ]
    }
   ],
   "source": [
    "#!pip install keras\n",
    "#!pip install tensorflow"
   ]
  },
  {
   "cell_type": "code",
   "execution_count": 13,
   "metadata": {},
   "outputs": [
    {
     "name": "stderr",
     "output_type": "stream",
     "text": [
      "Using TensorFlow backend.\n"
     ]
    }
   ],
   "source": [
    "from keras.preprocessing.text import Tokenizer\n",
    "token = Tokenizer(num_words = 2000)\n",
    "#fit_on_text(texts) 使用一系列文檔來產生token辭典,texts為list,每個元素為一個文檔\n",
    "token.fit_on_texts(train_df[\"content\"])"
   ]
  },
  {
   "cell_type": "code",
   "execution_count": null,
   "metadata": {},
   "outputs": [],
   "source": [
    "# 可以顯示出字典的樣子, { \"字\" : \"編號\" ,  ...}\n",
    "#token.word_index"
   ]
  },
  {
   "cell_type": "code",
   "execution_count": null,
   "metadata": {},
   "outputs": [],
   "source": [
    "# 總共處理幾個文檔\n",
    "#token.document_count"
   ]
  },
  {
   "cell_type": "code",
   "execution_count": null,
   "metadata": {},
   "outputs": [],
   "source": [
    "# 可以顯示出每個字總共出現的次數,是dict\n",
    "#token.word_counts"
   ]
  },
  {
   "cell_type": "code",
   "execution_count": null,
   "metadata": {},
   "outputs": [],
   "source": [
    "# 可以顯示出每個字總共出現在幾篇文章,是dict\n",
    "#token.word_docs"
   ]
  },
  {
   "cell_type": "code",
   "execution_count": 14,
   "metadata": {},
   "outputs": [
    {
     "data": {
      "text/html": [
       "<div>\n",
       "<style scoped>\n",
       "    .dataframe tbody tr th:only-of-type {\n",
       "        vertical-align: middle;\n",
       "    }\n",
       "\n",
       "    .dataframe tbody tr th {\n",
       "        vertical-align: top;\n",
       "    }\n",
       "\n",
       "    .dataframe thead th {\n",
       "        text-align: right;\n",
       "    }\n",
       "</style>\n",
       "<table border=\"1\" class=\"dataframe\">\n",
       "  <thead>\n",
       "    <tr style=\"text-align: right;\">\n",
       "      <th></th>\n",
       "      <th>0</th>\n",
       "      <th>1</th>\n",
       "      <th>2</th>\n",
       "      <th>3</th>\n",
       "      <th>4</th>\n",
       "      <th>...</th>\n",
       "      <th>1706</th>\n",
       "      <th>1707</th>\n",
       "      <th>1708</th>\n",
       "      <th>1709</th>\n",
       "      <th>1710</th>\n",
       "    </tr>\n",
       "  </thead>\n",
       "  <tbody>\n",
       "    <tr>\n",
       "      <th>0</th>\n",
       "      <td>15</td>\n",
       "      <td>3</td>\n",
       "      <td>17</td>\n",
       "      <td>12</td>\n",
       "      <td>211</td>\n",
       "      <td>...</td>\n",
       "      <td>NaN</td>\n",
       "      <td>NaN</td>\n",
       "      <td>NaN</td>\n",
       "      <td>NaN</td>\n",
       "      <td>NaN</td>\n",
       "    </tr>\n",
       "    <tr>\n",
       "      <th>1</th>\n",
       "      <td>1159</td>\n",
       "      <td>186</td>\n",
       "      <td>17</td>\n",
       "      <td>1058</td>\n",
       "      <td>16</td>\n",
       "      <td>...</td>\n",
       "      <td>NaN</td>\n",
       "      <td>NaN</td>\n",
       "      <td>NaN</td>\n",
       "      <td>NaN</td>\n",
       "      <td>NaN</td>\n",
       "    </tr>\n",
       "    <tr>\n",
       "      <th>2</th>\n",
       "      <td>3</td>\n",
       "      <td>1153</td>\n",
       "      <td>44</td>\n",
       "      <td>19</td>\n",
       "      <td>14</td>\n",
       "      <td>...</td>\n",
       "      <td>NaN</td>\n",
       "      <td>NaN</td>\n",
       "      <td>NaN</td>\n",
       "      <td>NaN</td>\n",
       "      <td>NaN</td>\n",
       "    </tr>\n",
       "    <tr>\n",
       "      <th>3</th>\n",
       "      <td>42</td>\n",
       "      <td>3</td>\n",
       "      <td>676</td>\n",
       "      <td>544</td>\n",
       "      <td>5</td>\n",
       "      <td>...</td>\n",
       "      <td>NaN</td>\n",
       "      <td>NaN</td>\n",
       "      <td>NaN</td>\n",
       "      <td>NaN</td>\n",
       "      <td>NaN</td>\n",
       "    </tr>\n",
       "    <tr>\n",
       "      <th>4</th>\n",
       "      <td>22</td>\n",
       "      <td>239</td>\n",
       "      <td>29</td>\n",
       "      <td>457</td>\n",
       "      <td>121</td>\n",
       "      <td>...</td>\n",
       "      <td>NaN</td>\n",
       "      <td>NaN</td>\n",
       "      <td>NaN</td>\n",
       "      <td>NaN</td>\n",
       "      <td>NaN</td>\n",
       "    </tr>\n",
       "    <tr>\n",
       "      <th>5</th>\n",
       "      <td>10</td>\n",
       "      <td>216</td>\n",
       "      <td>1</td>\n",
       "      <td>17</td>\n",
       "      <td>16</td>\n",
       "      <td>...</td>\n",
       "      <td>NaN</td>\n",
       "      <td>NaN</td>\n",
       "      <td>NaN</td>\n",
       "      <td>NaN</td>\n",
       "      <td>NaN</td>\n",
       "    </tr>\n",
       "    <tr>\n",
       "      <th>6</th>\n",
       "      <td>332</td>\n",
       "      <td>769</td>\n",
       "      <td>1</td>\n",
       "      <td>894</td>\n",
       "      <td>7</td>\n",
       "      <td>...</td>\n",
       "      <td>NaN</td>\n",
       "      <td>NaN</td>\n",
       "      <td>NaN</td>\n",
       "      <td>NaN</td>\n",
       "      <td>NaN</td>\n",
       "    </tr>\n",
       "    <tr>\n",
       "      <th>...</th>\n",
       "      <td>...</td>\n",
       "      <td>...</td>\n",
       "      <td>...</td>\n",
       "      <td>...</td>\n",
       "      <td>...</td>\n",
       "      <td>...</td>\n",
       "      <td>...</td>\n",
       "      <td>...</td>\n",
       "      <td>...</td>\n",
       "      <td>...</td>\n",
       "      <td>...</td>\n",
       "    </tr>\n",
       "    <tr>\n",
       "      <th>24993</th>\n",
       "      <td>7</td>\n",
       "      <td>7</td>\n",
       "      <td>1790</td>\n",
       "      <td>5</td>\n",
       "      <td>1984</td>\n",
       "      <td>...</td>\n",
       "      <td>NaN</td>\n",
       "      <td>NaN</td>\n",
       "      <td>NaN</td>\n",
       "      <td>NaN</td>\n",
       "      <td>NaN</td>\n",
       "    </tr>\n",
       "    <tr>\n",
       "      <th>24994</th>\n",
       "      <td>743</td>\n",
       "      <td>6</td>\n",
       "      <td>28</td>\n",
       "      <td>4</td>\n",
       "      <td>58</td>\n",
       "      <td>...</td>\n",
       "      <td>NaN</td>\n",
       "      <td>NaN</td>\n",
       "      <td>NaN</td>\n",
       "      <td>NaN</td>\n",
       "      <td>NaN</td>\n",
       "    </tr>\n",
       "    <tr>\n",
       "      <th>24995</th>\n",
       "      <td>58</td>\n",
       "      <td>792</td>\n",
       "      <td>200</td>\n",
       "      <td>27</td>\n",
       "      <td>3</td>\n",
       "      <td>...</td>\n",
       "      <td>NaN</td>\n",
       "      <td>NaN</td>\n",
       "      <td>NaN</td>\n",
       "      <td>NaN</td>\n",
       "      <td>NaN</td>\n",
       "    </tr>\n",
       "    <tr>\n",
       "      <th>24996</th>\n",
       "      <td>1</td>\n",
       "      <td>4</td>\n",
       "      <td>685</td>\n",
       "      <td>34</td>\n",
       "      <td>8</td>\n",
       "      <td>...</td>\n",
       "      <td>NaN</td>\n",
       "      <td>NaN</td>\n",
       "      <td>NaN</td>\n",
       "      <td>NaN</td>\n",
       "      <td>NaN</td>\n",
       "    </tr>\n",
       "    <tr>\n",
       "      <th>24997</th>\n",
       "      <td>446</td>\n",
       "      <td>145</td>\n",
       "      <td>12</td>\n",
       "      <td>99</td>\n",
       "      <td>41</td>\n",
       "      <td>...</td>\n",
       "      <td>NaN</td>\n",
       "      <td>NaN</td>\n",
       "      <td>NaN</td>\n",
       "      <td>NaN</td>\n",
       "      <td>NaN</td>\n",
       "    </tr>\n",
       "    <tr>\n",
       "      <th>24998</th>\n",
       "      <td>1802</td>\n",
       "      <td>42</td>\n",
       "      <td>721</td>\n",
       "      <td>10</td>\n",
       "      <td>67</td>\n",
       "      <td>...</td>\n",
       "      <td>NaN</td>\n",
       "      <td>NaN</td>\n",
       "      <td>NaN</td>\n",
       "      <td>NaN</td>\n",
       "      <td>NaN</td>\n",
       "    </tr>\n",
       "    <tr>\n",
       "      <th>24999</th>\n",
       "      <td>21</td>\n",
       "      <td>12</td>\n",
       "      <td>10</td>\n",
       "      <td>99</td>\n",
       "      <td>18</td>\n",
       "      <td>...</td>\n",
       "      <td>NaN</td>\n",
       "      <td>NaN</td>\n",
       "      <td>NaN</td>\n",
       "      <td>NaN</td>\n",
       "      <td>NaN</td>\n",
       "    </tr>\n",
       "  </tbody>\n",
       "</table>\n",
       "<p>25000 rows × 1711 columns</p>\n",
       "</div>"
      ],
      "text/plain": [
       "       0     1     2     3     4     ...   1706  1707  1708  1709  1710\n",
       "0        15     3    17    12   211  ...    NaN   NaN   NaN   NaN   NaN\n",
       "1      1159   186    17  1058    16  ...    NaN   NaN   NaN   NaN   NaN\n",
       "2         3  1153    44    19    14  ...    NaN   NaN   NaN   NaN   NaN\n",
       "3        42     3   676   544     5  ...    NaN   NaN   NaN   NaN   NaN\n",
       "4        22   239    29   457   121  ...    NaN   NaN   NaN   NaN   NaN\n",
       "5        10   216     1    17    16  ...    NaN   NaN   NaN   NaN   NaN\n",
       "6       332   769     1   894     7  ...    NaN   NaN   NaN   NaN   NaN\n",
       "...     ...   ...   ...   ...   ...  ...    ...   ...   ...   ...   ...\n",
       "24993     7     7  1790     5  1984  ...    NaN   NaN   NaN   NaN   NaN\n",
       "24994   743     6    28     4    58  ...    NaN   NaN   NaN   NaN   NaN\n",
       "24995    58   792   200    27     3  ...    NaN   NaN   NaN   NaN   NaN\n",
       "24996     1     4   685    34     8  ...    NaN   NaN   NaN   NaN   NaN\n",
       "24997   446   145    12    99    41  ...    NaN   NaN   NaN   NaN   NaN\n",
       "24998  1802    42   721    10    67  ...    NaN   NaN   NaN   NaN   NaN\n",
       "24999    21    12    10    99    18  ...    NaN   NaN   NaN   NaN   NaN\n",
       "\n",
       "[25000 rows x 1711 columns]"
      ]
     },
     "execution_count": 14,
     "metadata": {},
     "output_type": "execute_result"
    }
   ],
   "source": [
    "#texts_to_sequences(texts) 將多個文檔轉換為word下標的向量形式,\n",
    "#shape為[len(texts) , len(text)] -- (文檔數 , 每條文檔的長度)\n",
    "x_train_seq = token.texts_to_sequences(train_df[\"content\"])\n",
    "x_test_seq = token.texts_to_sequences(test_df[\"content\"])\n",
    "pd.DataFrame(x_train_seq)\n",
    "#pd.DataFrame(x_test_seq)"
   ]
  },
  {
   "cell_type": "code",
   "execution_count": null,
   "metadata": {},
   "outputs": [],
   "source": [
    "#texts_to_matrix(texts) 將多个文檔轉換為矩陣表示,shape为[len(texts) , num_words] -- (文檔數 , 每個字出現個數)\n",
    "#token.texts_to_matrix(train_df[\"content\"])"
   ]
  },
  {
   "cell_type": "markdown",
   "metadata": {},
   "source": [
    "發現每一篇文章的長度不一樣,所以我們截長補短把每一篇文章取 100 個字來做訓練(訓練的時候無法處理長短不同的文章)。"
   ]
  },
  {
   "cell_type": "code",
   "execution_count": 15,
   "metadata": {},
   "outputs": [
    {
     "data": {
      "text/html": [
       "<div>\n",
       "<style scoped>\n",
       "    .dataframe tbody tr th:only-of-type {\n",
       "        vertical-align: middle;\n",
       "    }\n",
       "\n",
       "    .dataframe tbody tr th {\n",
       "        vertical-align: top;\n",
       "    }\n",
       "\n",
       "    .dataframe thead th {\n",
       "        text-align: right;\n",
       "    }\n",
       "</style>\n",
       "<table border=\"1\" class=\"dataframe\">\n",
       "  <thead>\n",
       "    <tr style=\"text-align: right;\">\n",
       "      <th></th>\n",
       "      <th>0</th>\n",
       "      <th>1</th>\n",
       "      <th>2</th>\n",
       "      <th>3</th>\n",
       "      <th>4</th>\n",
       "      <th>...</th>\n",
       "      <th>95</th>\n",
       "      <th>96</th>\n",
       "      <th>97</th>\n",
       "      <th>98</th>\n",
       "      <th>99</th>\n",
       "    </tr>\n",
       "  </thead>\n",
       "  <tbody>\n",
       "    <tr>\n",
       "      <th>0</th>\n",
       "      <td>0</td>\n",
       "      <td>0</td>\n",
       "      <td>0</td>\n",
       "      <td>0</td>\n",
       "      <td>0</td>\n",
       "      <td>...</td>\n",
       "      <td>1</td>\n",
       "      <td>1789</td>\n",
       "      <td>14</td>\n",
       "      <td>3</td>\n",
       "      <td>565</td>\n",
       "    </tr>\n",
       "    <tr>\n",
       "      <th>1</th>\n",
       "      <td>1314</td>\n",
       "      <td>14</td>\n",
       "      <td>3</td>\n",
       "      <td>181</td>\n",
       "      <td>18</td>\n",
       "      <td>...</td>\n",
       "      <td>274</td>\n",
       "      <td>16</td>\n",
       "      <td>297</td>\n",
       "      <td>238</td>\n",
       "      <td>36</td>\n",
       "    </tr>\n",
       "    <tr>\n",
       "      <th>2</th>\n",
       "      <td>0</td>\n",
       "      <td>0</td>\n",
       "      <td>0</td>\n",
       "      <td>0</td>\n",
       "      <td>0</td>\n",
       "      <td>...</td>\n",
       "      <td>134</td>\n",
       "      <td>33</td>\n",
       "      <td>15</td>\n",
       "      <td>5</td>\n",
       "      <td>1</td>\n",
       "    </tr>\n",
       "    <tr>\n",
       "      <th>3</th>\n",
       "      <td>690</td>\n",
       "      <td>8</td>\n",
       "      <td>1574</td>\n",
       "      <td>1509</td>\n",
       "      <td>1773</td>\n",
       "      <td>...</td>\n",
       "      <td>25</td>\n",
       "      <td>5</td>\n",
       "      <td>543</td>\n",
       "      <td>8</td>\n",
       "      <td>98</td>\n",
       "    </tr>\n",
       "    <tr>\n",
       "      <th>4</th>\n",
       "      <td>1</td>\n",
       "      <td>150</td>\n",
       "      <td>2</td>\n",
       "      <td>11</td>\n",
       "      <td>6</td>\n",
       "      <td>...</td>\n",
       "      <td>46</td>\n",
       "      <td>248</td>\n",
       "      <td>1213</td>\n",
       "      <td>15</td>\n",
       "      <td>883</td>\n",
       "    </tr>\n",
       "    <tr>\n",
       "      <th>5</th>\n",
       "      <td>0</td>\n",
       "      <td>0</td>\n",
       "      <td>0</td>\n",
       "      <td>0</td>\n",
       "      <td>0</td>\n",
       "      <td>...</td>\n",
       "      <td>96</td>\n",
       "      <td>1271</td>\n",
       "      <td>10</td>\n",
       "      <td>420</td>\n",
       "      <td>1</td>\n",
       "    </tr>\n",
       "    <tr>\n",
       "      <th>6</th>\n",
       "      <td>46</td>\n",
       "      <td>5</td>\n",
       "      <td>46</td>\n",
       "      <td>4</td>\n",
       "      <td>126</td>\n",
       "      <td>...</td>\n",
       "      <td>7</td>\n",
       "      <td>7</td>\n",
       "      <td>11</td>\n",
       "      <td>6</td>\n",
       "      <td>1257</td>\n",
       "    </tr>\n",
       "    <tr>\n",
       "      <th>...</th>\n",
       "      <td>...</td>\n",
       "      <td>...</td>\n",
       "      <td>...</td>\n",
       "      <td>...</td>\n",
       "      <td>...</td>\n",
       "      <td>...</td>\n",
       "      <td>...</td>\n",
       "      <td>...</td>\n",
       "      <td>...</td>\n",
       "      <td>...</td>\n",
       "      <td>...</td>\n",
       "    </tr>\n",
       "    <tr>\n",
       "      <th>24993</th>\n",
       "      <td>0</td>\n",
       "      <td>0</td>\n",
       "      <td>0</td>\n",
       "      <td>7</td>\n",
       "      <td>7</td>\n",
       "      <td>...</td>\n",
       "      <td>4</td>\n",
       "      <td>29</td>\n",
       "      <td>1</td>\n",
       "      <td>722</td>\n",
       "      <td>65</td>\n",
       "    </tr>\n",
       "    <tr>\n",
       "      <th>24994</th>\n",
       "      <td>0</td>\n",
       "      <td>0</td>\n",
       "      <td>0</td>\n",
       "      <td>0</td>\n",
       "      <td>0</td>\n",
       "      <td>...</td>\n",
       "      <td>467</td>\n",
       "      <td>743</td>\n",
       "      <td>211</td>\n",
       "      <td>3</td>\n",
       "      <td>454</td>\n",
       "    </tr>\n",
       "    <tr>\n",
       "      <th>24995</th>\n",
       "      <td>6</td>\n",
       "      <td>32</td>\n",
       "      <td>14</td>\n",
       "      <td>23</td>\n",
       "      <td>1</td>\n",
       "      <td>...</td>\n",
       "      <td>117</td>\n",
       "      <td>89</td>\n",
       "      <td>435</td>\n",
       "      <td>126</td>\n",
       "      <td>55</td>\n",
       "    </tr>\n",
       "    <tr>\n",
       "      <th>24996</th>\n",
       "      <td>30</td>\n",
       "      <td>29</td>\n",
       "      <td>546</td>\n",
       "      <td>46</td>\n",
       "      <td>12</td>\n",
       "      <td>...</td>\n",
       "      <td>749</td>\n",
       "      <td>88</td>\n",
       "      <td>4</td>\n",
       "      <td>1</td>\n",
       "      <td>1550</td>\n",
       "    </tr>\n",
       "    <tr>\n",
       "      <th>24997</th>\n",
       "      <td>0</td>\n",
       "      <td>0</td>\n",
       "      <td>0</td>\n",
       "      <td>0</td>\n",
       "      <td>0</td>\n",
       "      <td>...</td>\n",
       "      <td>7</td>\n",
       "      <td>1455</td>\n",
       "      <td>155</td>\n",
       "      <td>7</td>\n",
       "      <td>7</td>\n",
       "    </tr>\n",
       "    <tr>\n",
       "      <th>24998</th>\n",
       "      <td>31</td>\n",
       "      <td>12</td>\n",
       "      <td>1298</td>\n",
       "      <td>4</td>\n",
       "      <td>1</td>\n",
       "      <td>...</td>\n",
       "      <td>3</td>\n",
       "      <td>2</td>\n",
       "      <td>80</td>\n",
       "      <td>1</td>\n",
       "      <td>1873</td>\n",
       "    </tr>\n",
       "    <tr>\n",
       "      <th>24999</th>\n",
       "      <td>0</td>\n",
       "      <td>0</td>\n",
       "      <td>0</td>\n",
       "      <td>0</td>\n",
       "      <td>0</td>\n",
       "      <td>...</td>\n",
       "      <td>1934</td>\n",
       "      <td>39</td>\n",
       "      <td>302</td>\n",
       "      <td>339</td>\n",
       "      <td>155</td>\n",
       "    </tr>\n",
       "  </tbody>\n",
       "</table>\n",
       "<p>25000 rows × 100 columns</p>\n",
       "</div>"
      ],
      "text/plain": [
       "         0    1     2     3     4   ...     95    96    97   98    99\n",
       "0         0    0     0     0     0  ...      1  1789    14    3   565\n",
       "1      1314   14     3   181    18  ...    274    16   297  238    36\n",
       "2         0    0     0     0     0  ...    134    33    15    5     1\n",
       "3       690    8  1574  1509  1773  ...     25     5   543    8    98\n",
       "4         1  150     2    11     6  ...     46   248  1213   15   883\n",
       "5         0    0     0     0     0  ...     96  1271    10  420     1\n",
       "6        46    5    46     4   126  ...      7     7    11    6  1257\n",
       "...     ...  ...   ...   ...   ...  ...    ...   ...   ...  ...   ...\n",
       "24993     0    0     0     7     7  ...      4    29     1  722    65\n",
       "24994     0    0     0     0     0  ...    467   743   211    3   454\n",
       "24995     6   32    14    23     1  ...    117    89   435  126    55\n",
       "24996    30   29   546    46    12  ...    749    88     4    1  1550\n",
       "24997     0    0     0     0     0  ...      7  1455   155    7     7\n",
       "24998    31   12  1298     4     1  ...      3     2    80    1  1873\n",
       "24999     0    0     0     0     0  ...   1934    39   302  339   155\n",
       "\n",
       "[25000 rows x 100 columns]"
      ]
     },
     "execution_count": 15,
     "metadata": {},
     "output_type": "execute_result"
    }
   ],
   "source": [
    "from keras.preprocessing import sequence\n",
    "#sequence.pad_sequences,將序列填充到maxlen長度\n",
    "x_train_pad = sequence.pad_sequences(x_train_seq, maxlen = 100)\n",
    "x_test_pad = sequence.pad_sequences(x_test_seq, maxlen = 100)\n",
    "pd.DataFrame(x_train_pad)\n",
    "#pd.DataFrame(x_test_pad)"
   ]
  },
  {
   "cell_type": "code",
   "execution_count": 16,
   "metadata": {},
   "outputs": [
    {
     "data": {
      "text/plain": [
       "array([   0,    0,    0,    0,    0,    0,    0,    0,    0,    0,    0,\n",
       "          0,    0,    0,    0,    0,    0,    0,    0,    0,    0,    0,\n",
       "          0,    0,    0,    0,    0,    0,    0,    0,    0,    0,    0,\n",
       "          0,    0,    0,    0,    0,    0,    0,    0,    0,    0,    0,\n",
       "          0,    0,    0,    0,    0,    0,    0,    0,    0,    0,    0,\n",
       "          0,    0,    0,    0,   15,    3,   17,   12,  211,   54, 1158,\n",
       "         47,  249,   23,    3,  173,    4,  903,   15,   11, 1525,  835,\n",
       "          3,   17,  118,  911,    6,  162,  160,    6,    3,  133,    1,\n",
       "        106,    6,   32, 1552,  103,   15, 1605,    1, 1789,   14,    3,\n",
       "        565], dtype=int32)"
      ]
     },
     "execution_count": 16,
     "metadata": {},
     "output_type": "execute_result"
    }
   ],
   "source": [
    "#將資料 padding 成為 100 以後的資料長成如何\n",
    "x_train_pad[0]"
   ]
  },
  {
   "cell_type": "code",
   "execution_count": 17,
   "metadata": {},
   "outputs": [],
   "source": [
    "# Keras 內建詞嵌入層,可以把 2000 維度的每一個詞向量換成 32 維度的詞向量\n",
    "from keras.models import Sequential\n",
    "from keras.layers.core import Dense, Dropout, Flatten\n",
    "from keras.layers.embeddings import Embedding"
   ]
  },
  {
   "cell_type": "code",
   "execution_count": 18,
   "metadata": {},
   "outputs": [],
   "source": [
    "model = Sequential()\n",
    "model.add(Embedding(output_dim = 32, input_dim = 2000, input_length = 100))\n",
    "model.add(Dropout(0.2))\n",
    "model.add(Flatten())\n",
    "model.add(Dense(units = 256, activation = \"relu\"))\n",
    "model.add(Dropout(0.35))\n",
    "# 注意一下, 因為是二元分類, 最後的激勵函數選擇 sigmoid\n",
    "# sigmoid(正 + 負 =100%) softmax(類別全部 = 100%)\n",
    "model.add(Dense(units = 1, activation = \"sigmoid\"))"
   ]
  },
  {
   "cell_type": "code",
   "execution_count": 19,
   "metadata": {},
   "outputs": [
    {
     "name": "stdout",
     "output_type": "stream",
     "text": [
      "_________________________________________________________________\n",
      "Layer (type)                 Output Shape              Param #   \n",
      "=================================================================\n",
      "embedding_1 (Embedding)      (None, 100, 32)           64000     \n",
      "_________________________________________________________________\n",
      "dropout_1 (Dropout)          (None, 100, 32)           0         \n",
      "_________________________________________________________________\n",
      "flatten_1 (Flatten)          (None, 3200)              0         \n",
      "_________________________________________________________________\n",
      "dense_1 (Dense)              (None, 256)               819456    \n",
      "_________________________________________________________________\n",
      "dropout_2 (Dropout)          (None, 256)               0         \n",
      "_________________________________________________________________\n",
      "dense_2 (Dense)              (None, 1)                 257       \n",
      "=================================================================\n",
      "Total params: 883,713\n",
      "Trainable params: 883,713\n",
      "Non-trainable params: 0\n",
      "_________________________________________________________________\n"
     ]
    }
   ],
   "source": [
    "# 模型長相\n",
    "model.summary()\n",
    "# Embedding 層的 64000: 2000(輸入詞維度) x 32(輸入詞維度) = 64000\n",
    "# Flatten 層的 3200 輸入維度: 32(詞維度) * 100(文章的字數) = 3200"
   ]
  },
  {
   "cell_type": "code",
   "execution_count": 20,
   "metadata": {},
   "outputs": [
    {
     "name": "stdout",
     "output_type": "stream",
     "text": [
      "Train on 20000 samples, validate on 5000 samples\n",
      "Epoch 1/3\n",
      " - 4s - loss: 0.4771 - acc: 0.7595 - val_loss: 0.5949 - val_acc: 0.7186\n",
      "Epoch 2/3\n",
      " - 3s - loss: 0.2642 - acc: 0.8931 - val_loss: 0.6965 - val_acc: 0.6960\n",
      "Epoch 3/3\n",
      " - 3s - loss: 0.1592 - acc: 0.9417 - val_loss: 0.6357 - val_acc: 0.7648\n"
     ]
    }
   ],
   "source": [
    "import numpy as np\n",
    "# 因為只是二元分類, 所以這裡的 loss 選擇 binary_crossentropy\n",
    "model.compile(loss = 'binary_crossentropy',\n",
    "                     optimizer = 'adam',\n",
    "                     metrics = ['accuracy'])\n",
    "#from keras.datasets import imdb\n",
    "y_train = train_df['sentiment']\n",
    "train_history = model.fit(x_train_pad, y_train,\n",
    "                                  batch_size = 100,\n",
    "                                  epochs = 3,\n",
    "                                  verbose = 2,\n",
    "                                  validation_split = 0.2)\n",
    "# 根據 val_loss,我們可以知道大概在 3-4 個 epoch 的時候,模型就已經完成了訓練,繼續訓練下去只是增加過擬合的程度"
   ]
  },
  {
   "cell_type": "code",
   "execution_count": 21,
   "metadata": {},
   "outputs": [
    {
     "name": "stdout",
     "output_type": "stream",
     "text": [
      "25000/25000 [==============================] - 2s 61us/step\n"
     ]
    },
    {
     "data": {
      "text/plain": [
       "[0.45960428291797639, 0.82323999999999997]"
      ]
     },
     "execution_count": 21,
     "metadata": {},
     "output_type": "execute_result"
    }
   ],
   "source": [
    "y_test = test_df['sentiment']\n",
    "# 正確率是 list 第二個元素\n",
    "model.evaluate(x_test_pad, y_test)"
   ]
  },
  {
   "cell_type": "code",
   "execution_count": 22,
   "metadata": {},
   "outputs": [
    {
     "data": {
      "text/plain": [
       "<matplotlib.legend.Legend at 0x7fdd62cdb518>"
      ]
     },
     "execution_count": 22,
     "metadata": {},
     "output_type": "execute_result"
    },
    {
     "data": {
      "image/png": "[encoded data removed]",
      "text/plain": [
       "<Figure size 432x288 with 1 Axes>"
      ]
     },
     "metadata": {
      "needs_background": "light"
     },
     "output_type": "display_data"
    }
   ],
   "source": [
    "import matplotlib.pyplot as plt\n",
    "%matplotlib inline\n",
    "plt.plot(train_history.history[\"loss\"])\n",
    "plt.plot(train_history.history[\"val_loss\"])\n",
    "plt.title(\"Loss Graph\")\n",
    "plt.legend(['loss', 'val_loss'], loc = \"upper left\")"
   ]
  },
  {
   "cell_type": "code",
   "execution_count": 23,
   "metadata": {},
   "outputs": [],
   "source": [
    "from keras.layers import SimpleRNN"
   ]
  },
  {
   "cell_type": "code",
   "execution_count": 24,
   "metadata": {},
   "outputs": [],
   "source": [
    "model = Sequential()\n",
    "model.add(Embedding(output_dim = 32, input_dim = 2000, input_length = 100))\n",
    "model.add(Dropout(0.2))\n",
    "# RNN: 記憶 16 個狀態\n",
    "model.add(SimpleRNN(units = 16))\n",
    "model.add(Dense(units = 256, activation='relu'))\n",
    "model.add(Dropout(0.35))\n",
    "# 注意一下, 因為是二元分類, 最後的激勵函數選擇 sigmoid\n",
    "# sigmoid(正 + 負 =100%) softmax(類別全部 =100%)\n",
    "model.add(Dense(units = 1, activation = \"sigmoid\"))"
   ]
  },
  {
   "cell_type": "code",
   "execution_count": 25,
   "metadata": {},
   "outputs": [],
   "source": [
    "# 特別注意一下, 因為我們只是二元分類, 所以這裡的 loss 選擇 binary_crossentropy\n",
    "model.compile(loss = \"binary_crossentropy\",\n",
    "                     optimizer='adam',\n",
    "                     metrics=['accuracy'])"
   ]
  },
  {
   "cell_type": "code",
   "execution_count": 26,
   "metadata": {},
   "outputs": [
    {
     "name": "stdout",
     "output_type": "stream",
     "text": [
      "_________________________________________________________________\n",
      "Layer (type)                 Output Shape              Param #   \n",
      "=================================================================\n",
      "embedding_2 (Embedding)      (None, 100, 32)           64000     \n",
      "_________________________________________________________________\n",
      "dropout_3 (Dropout)          (None, 100, 32)           0         \n",
      "_________________________________________________________________\n",
      "simple_rnn_1 (SimpleRNN)     (None, 16)                784       \n",
      "_________________________________________________________________\n",
      "dense_3 (Dense)              (None, 256)               4352      \n",
      "_________________________________________________________________\n",
      "dropout_4 (Dropout)          (None, 256)               0         \n",
      "_________________________________________________________________\n",
      "dense_4 (Dense)              (None, 1)                 257       \n",
      "=================================================================\n",
      "Total params: 69,393\n",
      "Trainable params: 69,393\n",
      "Non-trainable params: 0\n",
      "_________________________________________________________________\n"
     ]
    }
   ],
   "source": [
    "model.summary()"
   ]
  },
  {
   "cell_type": "code",
   "execution_count": 27,
   "metadata": {},
   "outputs": [
    {
     "name": "stdout",
     "output_type": "stream",
     "text": [
      "Train on 20000 samples, validate on 5000 samples\n",
      "Epoch 1/3\n",
      " - 5s - loss: 0.5278 - acc: 0.7295 - val_loss: 0.5046 - val_acc: 0.7794\n",
      "Epoch 2/3\n",
      " - 4s - loss: 0.3453 - acc: 0.8545 - val_loss: 0.4155 - val_acc: 0.8234\n",
      "Epoch 3/3\n",
      " - 5s - loss: 0.2936 - acc: 0.8815 - val_loss: 0.5030 - val_acc: 0.7676\n"
     ]
    }
   ],
   "source": [
    "train_history = model.fit(x_train_pad, y_train,\n",
    "                                  batch_size = 100,\n",
    "                                  epochs = 3,\n",
    "                                  verbose = 2,\n",
    "                                  validation_split = 0.2)"
   ]
  },
  {
   "cell_type": "code",
   "execution_count": 28,
   "metadata": {},
   "outputs": [
    {
     "name": "stdout",
     "output_type": "stream",
     "text": [
      "25000/25000 [==============================] - 4s 149us/step\n"
     ]
    },
    {
     "data": {
      "text/plain": [
       "[0.38197840561866758, 0.83064000000000004]"
      ]
     },
     "execution_count": 28,
     "metadata": {},
     "output_type": "execute_result"
    }
   ],
   "source": [
    "y_test = test_df['sentiment']\n",
    "# 正確率是 list 第二個元素\n",
    "model.evaluate(x_test_pad, y_test)"
   ]
  },
  {
   "cell_type": "code",
   "execution_count": null,
   "metadata": {},
   "outputs": [],
   "source": []
  }
 ],
 "metadata": {
  "kernelspec": {
   "display_name": "Python 3",
   "language": "python",
   "name": "python3"
  },
  "language_info": {
   "codemirror_mode": {
    "name": "ipython",
    "version": 3
   },
   "file_extension": ".py",
   "mimetype": "text/x-python",
   "name": "python",
   "nbconvert_exporter": "python",
   "pygments_lexer": "ipython3",
   "version": "3.6.7"
  }
 },
 "nbformat": 4,
 "nbformat_minor": 2
}

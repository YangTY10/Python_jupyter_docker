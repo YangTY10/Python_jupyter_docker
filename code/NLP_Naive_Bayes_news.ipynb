{
 "cells": [
  {
   "cell_type": "code",
   "execution_count": 1,
   "metadata": {},
   "outputs": [],
   "source": [
    "#!pip install jieba\n",
    "import os\n",
    "import jieba\n",
    "import pandas as pd"
   ]
  },
  {
   "cell_type": "code",
   "execution_count": 2,
   "metadata": {},
   "outputs": [],
   "source": [
    "# 將印出來的rows只印出15行，columns只印出10行\n",
    "pd.set_option('display.max_rows', 15)\n",
    "pd.set_option('display.max_columns', 10)"
   ]
  },
  {
   "cell_type": "code",
   "execution_count": 3,
   "metadata": {},
   "outputs": [],
   "source": [
    "# scikit-learn 會有些 deprecation warning, 為了顯示漂亮, 刻意地忽略掉\n",
    "import warnings\n",
    "warnings.filterwarnings('ignore')"
   ]
  },
  {
   "cell_type": "code",
   "execution_count": 4,
   "metadata": {},
   "outputs": [],
   "source": [
    "base_dir = \"./NLP_Naive_Bayes_newsfile/chinese_news_trans\"\n",
    "test_dir = \"./NLP_Naive_Bayes_newsfile/chinese_news_test\""
   ]
  },
  {
   "cell_type": "code",
   "execution_count": 5,
   "metadata": {},
   "outputs": [],
   "source": [
    "# 因為要處理資料夾很多次,所以定義成函式\n",
    "def process_dirs(base_dir):\n",
    "    df = pd.DataFrame(columns = [\"類別\", \"內容\"])\n",
    "    # os.walk 會走到檔案才停下來\n",
    "    for dir_path, dir_names, file_names in os.walk(base_dir):\n",
    "        for single_file in file_names:\n",
    "            if not single_file.startswith(\".\"):\n",
    "                f = open(os.path.join(dir_path, single_file), \"r\", encoding = \"utf-8\")\n",
    "                content = f.read()\n",
    "                # 讀完檔案以後做出第一步處理, 先把換行都去掉\n",
    "                content = content.replace(\"\\r\", \"\").replace(\"\\n\", \"\")\n",
    "                split_word = jieba.cut(content)\n",
    "                # 分詞\n",
    "                content = \" \".join(split_word)\n",
    "                s = pd.Series([dir_path.split(\"/\")[-1], content], index = [\"類別\", \"內容\"])\n",
    "                df = df.append(s, ignore_index = True)\n",
    "    df['類別'] = df['類別'].astype('category')\n",
    "    return df"
   ]
  },
  {
   "cell_type": "code",
   "execution_count": 6,
   "metadata": {},
   "outputs": [
    {
     "name": "stderr",
     "output_type": "stream",
     "text": [
      "Building prefix dict from the default dictionary ...\n",
      "Dumping model to file cache /tmp/jieba.cache\n",
      "Loading model cost 1.182 seconds.\n",
      "Prefix dict has been built succesfully.\n"
     ]
    }
   ],
   "source": [
    "df = process_dirs(base_dir)"
   ]
  },
  {
   "cell_type": "code",
   "execution_count": 7,
   "metadata": {},
   "outputs": [
    {
     "data": {
      "text/html": [
       "<div>\n",
       "<style scoped>\n",
       "    .dataframe tbody tr th:only-of-type {\n",
       "        vertical-align: middle;\n",
       "    }\n",
       "\n",
       "    .dataframe tbody tr th {\n",
       "        vertical-align: top;\n",
       "    }\n",
       "\n",
       "    .dataframe thead th {\n",
       "        text-align: right;\n",
       "    }\n",
       "</style>\n",
       "<table border=\"1\" class=\"dataframe\">\n",
       "  <thead>\n",
       "    <tr style=\"text-align: right;\">\n",
       "      <th></th>\n",
       "      <th>類別</th>\n",
       "      <th>內容</th>\n",
       "    </tr>\n",
       "  </thead>\n",
       "  <tbody>\n",
       "    <tr>\n",
       "      <th>0</th>\n",
       "      <td>體育</td>\n",
       "      <td>國家 體委 和 全國體 總電 賀三國 和平 登山...</td>\n",
       "    </tr>\n",
       "    <tr>\n",
       "      <th>1</th>\n",
       "      <td>體育</td>\n",
       "      <td>（ 專發 《 天津 日報 》 ） 三國 和平 登...</td>\n",
       "    </tr>\n",
       "    <tr>\n",
       "      <th>2</th>\n",
       "      <td>體育</td>\n",
       "      <td>王志良 透露 亞運會 集資部 活動 經費 支出 ...</td>\n",
       "    </tr>\n",
       "    <tr>\n",
       "      <th>3</th>\n",
       "      <td>體育</td>\n",
       "      <td>通訊 ： 聶衛平 從 嚴治軍新華社 杭州 ５ 月...</td>\n",
       "    </tr>\n",
       "    <tr>\n",
       "      <th>4</th>\n",
       "      <td>體育</td>\n",
       "      <td>西藏自治 區 政府 宴請 和平 登山 隊新華 社...</td>\n",
       "    </tr>\n",
       "    <tr>\n",
       "      <th>5</th>\n",
       "      <td>體育</td>\n",
       "      <td>瑞典 男隊 獲首屆 世界 盃 乒乓球 團體賽 冠...</td>\n",
       "    </tr>\n",
       "    <tr>\n",
       "      <th>6</th>\n",
       "      <td>體育</td>\n",
       "      <td>女子 冠 軍 雷吉娜 · 傑 奎斯 　 　 在 隨後進行 的 是 男子 花樣 滑 決賽 把 ...</td>\n",
       "    </tr>\n",
       "    <tr>\n",
       "      <th>...</th>\n",
       "      <td>...</td>\n",
       "      <td>...</td>\n",
       "    </tr>\n",
       "    <tr>\n",
       "      <th>2630</th>\n",
       "      <td>經濟</td>\n",
       "      <td>廣東省 一季度 財政 收入 繼續 增長 新華社 ...</td>\n",
       "    </tr>\n",
       "    <tr>\n",
       "      <th>2631</th>\n",
       "      <td>經濟</td>\n",
       "      <td>我國 第一 個 證券 信息 網在滬 成立 新華社...</td>\n",
       "    </tr>\n",
       "    <tr>\n",
       "      <th>2632</th>\n",
       "      <td>經濟</td>\n",
       "      <td>緬 批准 成立 邊界 貿易 商會 新華社 仰光 ...</td>\n",
       "    </tr>\n",
       "    <tr>\n",
       "      <th>2633</th>\n",
       "      <td>經濟</td>\n",
       "      <td>日 月光 華   - -   Economics 精華區 文章 閱讀 - - - - - -...</td>\n",
       "    </tr>\n",
       "    <tr>\n",
       "      <th>2634</th>\n",
       "      <td>經濟</td>\n",
       "      <td>日 月光 華   - -   Economics 精華區 文章 閱讀 - - - - - -...</td>\n",
       "    </tr>\n",
       "    <tr>\n",
       "      <th>2635</th>\n",
       "      <td>經濟</td>\n",
       "      <td>日 月光 華   - -   Economics 精華區 文章 閱讀 - - - - - -...</td>\n",
       "    </tr>\n",
       "    <tr>\n",
       "      <th>2636</th>\n",
       "      <td>經濟</td>\n",
       "      <td>日 月光 華   - -   Economics 精華區 文章 閱讀 - - - - - -...</td>\n",
       "    </tr>\n",
       "  </tbody>\n",
       "</table>\n",
       "<p>2637 rows × 2 columns</p>\n",
       "</div>"
      ],
      "text/plain": [
       "      類別                                                 內容\n",
       "0     體育                        國家 體委 和 全國體 總電 賀三國 和平 登山...\n",
       "1     體育                        （ 專發 《 天津 日報 》 ） 三國 和平 登...\n",
       "2     體育                        王志良 透露 亞運會 集資部 活動 經費 支出 ...\n",
       "3     體育                        通訊 ： 聶衛平 從 嚴治軍新華社 杭州 ５ 月...\n",
       "4     體育                        西藏自治 區 政府 宴請 和平 登山 隊新華 社...\n",
       "5     體育                        瑞典 男隊 獲首屆 世界 盃 乒乓球 團體賽 冠...\n",
       "6     體育  女子 冠 軍 雷吉娜 · 傑 奎斯 　 　 在 隨後進行 的 是 男子 花樣 滑 決賽 把 ...\n",
       "...   ..                                                ...\n",
       "2630  經濟                        廣東省 一季度 財政 收入 繼續 增長 新華社 ...\n",
       "2631  經濟                        我國 第一 個 證券 信息 網在滬 成立 新華社...\n",
       "2632  經濟                        緬 批准 成立 邊界 貿易 商會 新華社 仰光 ...\n",
       "2633  經濟  日 月光 華   - -   Economics 精華區 文章 閱讀 - - - - - -...\n",
       "2634  經濟  日 月光 華   - -   Economics 精華區 文章 閱讀 - - - - - -...\n",
       "2635  經濟  日 月光 華   - -   Economics 精華區 文章 閱讀 - - - - - -...\n",
       "2636  經濟  日 月光 華   - -   Economics 精華區 文章 閱讀 - - - - - -...\n",
       "\n",
       "[2637 rows x 2 columns]"
      ]
     },
     "execution_count": 7,
     "metadata": {},
     "output_type": "execute_result"
    }
   ],
   "source": [
    "df"
   ]
  },
  {
   "cell_type": "markdown",
   "metadata": {},
   "source": [
    "由於 scikit-learn 不接受字串，所以我們一定要把類別轉換成整數，可以使用 cat.categories 得到所有類別，再使用 cat.codes 轉換成整數。"
   ]
  },
  {
   "cell_type": "code",
   "execution_count": 8,
   "metadata": {},
   "outputs": [],
   "source": [
    "# 把類別替換成 code ,並且記錄起來\n",
    "# 走過 categories 同時順便把字典創造起來\n",
    "saved_map = { \n",
    "    cat:df['類別'].cat.categories.get_loc(cat)\n",
    "        for cat in df['類別'].cat.categories \n",
    "    }"
   ]
  },
  {
   "cell_type": "code",
   "execution_count": 9,
   "metadata": {},
   "outputs": [
    {
     "data": {
      "text/plain": [
       "{'交通': 0,\n",
       " '政治': 1,\n",
       " '教育': 2,\n",
       " '環境': 3,\n",
       " '經濟': 4,\n",
       " '藝術': 5,\n",
       " '計算機': 6,\n",
       " '軍事': 7,\n",
       " '醫藥': 8,\n",
       " '體育': 9}"
      ]
     },
     "execution_count": 9,
     "metadata": {},
     "output_type": "execute_result"
    }
   ],
   "source": [
    "saved_map"
   ]
  },
  {
   "cell_type": "code",
   "execution_count": 10,
   "metadata": {},
   "outputs": [],
   "source": [
    "df['類別'] = df['類別'].cat.codes"
   ]
  },
  {
   "cell_type": "code",
   "execution_count": 11,
   "metadata": {},
   "outputs": [
    {
     "data": {
      "text/html": [
       "<div>\n",
       "<style scoped>\n",
       "    .dataframe tbody tr th:only-of-type {\n",
       "        vertical-align: middle;\n",
       "    }\n",
       "\n",
       "    .dataframe tbody tr th {\n",
       "        vertical-align: top;\n",
       "    }\n",
       "\n",
       "    .dataframe thead th {\n",
       "        text-align: right;\n",
       "    }\n",
       "</style>\n",
       "<table border=\"1\" class=\"dataframe\">\n",
       "  <thead>\n",
       "    <tr style=\"text-align: right;\">\n",
       "      <th></th>\n",
       "      <th>類別</th>\n",
       "      <th>內容</th>\n",
       "    </tr>\n",
       "  </thead>\n",
       "  <tbody>\n",
       "    <tr>\n",
       "      <th>0</th>\n",
       "      <td>9</td>\n",
       "      <td>國家 體委 和 全國體 總電 賀三國 和平 登山...</td>\n",
       "    </tr>\n",
       "    <tr>\n",
       "      <th>1</th>\n",
       "      <td>9</td>\n",
       "      <td>（ 專發 《 天津 日報 》 ） 三國 和平 登...</td>\n",
       "    </tr>\n",
       "    <tr>\n",
       "      <th>2</th>\n",
       "      <td>9</td>\n",
       "      <td>王志良 透露 亞運會 集資部 活動 經費 支出 ...</td>\n",
       "    </tr>\n",
       "    <tr>\n",
       "      <th>3</th>\n",
       "      <td>9</td>\n",
       "      <td>通訊 ： 聶衛平 從 嚴治軍新華社 杭州 ５ 月...</td>\n",
       "    </tr>\n",
       "    <tr>\n",
       "      <th>4</th>\n",
       "      <td>9</td>\n",
       "      <td>西藏自治 區 政府 宴請 和平 登山 隊新華 社...</td>\n",
       "    </tr>\n",
       "    <tr>\n",
       "      <th>5</th>\n",
       "      <td>9</td>\n",
       "      <td>瑞典 男隊 獲首屆 世界 盃 乒乓球 團體賽 冠...</td>\n",
       "    </tr>\n",
       "    <tr>\n",
       "      <th>6</th>\n",
       "      <td>9</td>\n",
       "      <td>女子 冠 軍 雷吉娜 · 傑 奎斯 　 　 在 隨後進行 的 是 男子 花樣 滑 決賽 把 ...</td>\n",
       "    </tr>\n",
       "    <tr>\n",
       "      <th>...</th>\n",
       "      <td>...</td>\n",
       "      <td>...</td>\n",
       "    </tr>\n",
       "    <tr>\n",
       "      <th>2630</th>\n",
       "      <td>4</td>\n",
       "      <td>廣東省 一季度 財政 收入 繼續 增長 新華社 ...</td>\n",
       "    </tr>\n",
       "    <tr>\n",
       "      <th>2631</th>\n",
       "      <td>4</td>\n",
       "      <td>我國 第一 個 證券 信息 網在滬 成立 新華社...</td>\n",
       "    </tr>\n",
       "    <tr>\n",
       "      <th>2632</th>\n",
       "      <td>4</td>\n",
       "      <td>緬 批准 成立 邊界 貿易 商會 新華社 仰光 ...</td>\n",
       "    </tr>\n",
       "    <tr>\n",
       "      <th>2633</th>\n",
       "      <td>4</td>\n",
       "      <td>日 月光 華   - -   Economics 精華區 文章 閱讀 - - - - - -...</td>\n",
       "    </tr>\n",
       "    <tr>\n",
       "      <th>2634</th>\n",
       "      <td>4</td>\n",
       "      <td>日 月光 華   - -   Economics 精華區 文章 閱讀 - - - - - -...</td>\n",
       "    </tr>\n",
       "    <tr>\n",
       "      <th>2635</th>\n",
       "      <td>4</td>\n",
       "      <td>日 月光 華   - -   Economics 精華區 文章 閱讀 - - - - - -...</td>\n",
       "    </tr>\n",
       "    <tr>\n",
       "      <th>2636</th>\n",
       "      <td>4</td>\n",
       "      <td>日 月光 華   - -   Economics 精華區 文章 閱讀 - - - - - -...</td>\n",
       "    </tr>\n",
       "  </tbody>\n",
       "</table>\n",
       "<p>2637 rows × 2 columns</p>\n",
       "</div>"
      ],
      "text/plain": [
       "      類別                                                 內容\n",
       "0      9                        國家 體委 和 全國體 總電 賀三國 和平 登山...\n",
       "1      9                        （ 專發 《 天津 日報 》 ） 三國 和平 登...\n",
       "2      9                        王志良 透露 亞運會 集資部 活動 經費 支出 ...\n",
       "3      9                        通訊 ： 聶衛平 從 嚴治軍新華社 杭州 ５ 月...\n",
       "4      9                        西藏自治 區 政府 宴請 和平 登山 隊新華 社...\n",
       "5      9                        瑞典 男隊 獲首屆 世界 盃 乒乓球 團體賽 冠...\n",
       "6      9  女子 冠 軍 雷吉娜 · 傑 奎斯 　 　 在 隨後進行 的 是 男子 花樣 滑 決賽 把 ...\n",
       "...   ..                                                ...\n",
       "2630   4                        廣東省 一季度 財政 收入 繼續 增長 新華社 ...\n",
       "2631   4                        我國 第一 個 證券 信息 網在滬 成立 新華社...\n",
       "2632   4                        緬 批准 成立 邊界 貿易 商會 新華社 仰光 ...\n",
       "2633   4  日 月光 華   - -   Economics 精華區 文章 閱讀 - - - - - -...\n",
       "2634   4  日 月光 華   - -   Economics 精華區 文章 閱讀 - - - - - -...\n",
       "2635   4  日 月光 華   - -   Economics 精華區 文章 閱讀 - - - - - -...\n",
       "2636   4  日 月光 華   - -   Economics 精華區 文章 閱讀 - - - - - -...\n",
       "\n",
       "[2637 rows x 2 columns]"
      ]
     },
     "execution_count": 11,
     "metadata": {},
     "output_type": "execute_result"
    }
   ],
   "source": [
    "df"
   ]
  },
  {
   "cell_type": "code",
   "execution_count": 12,
   "metadata": {},
   "outputs": [],
   "source": [
    "test_df = process_dirs(test_dir)"
   ]
  },
  {
   "cell_type": "code",
   "execution_count": 13,
   "metadata": {},
   "outputs": [
    {
     "data": {
      "text/html": [
       "<div>\n",
       "<style scoped>\n",
       "    .dataframe tbody tr th:only-of-type {\n",
       "        vertical-align: middle;\n",
       "    }\n",
       "\n",
       "    .dataframe tbody tr th {\n",
       "        vertical-align: top;\n",
       "    }\n",
       "\n",
       "    .dataframe thead th {\n",
       "        text-align: right;\n",
       "    }\n",
       "</style>\n",
       "<table border=\"1\" class=\"dataframe\">\n",
       "  <thead>\n",
       "    <tr style=\"text-align: right;\">\n",
       "      <th></th>\n",
       "      <th>類別</th>\n",
       "      <th>內容</th>\n",
       "    </tr>\n",
       "  </thead>\n",
       "  <tbody>\n",
       "    <tr>\n",
       "      <th>0</th>\n",
       "      <td>體育</td>\n",
       "      <td>各國 記者 眼中 的 羽毛球 世錦賽   - - - - - - - - - - - -...</td>\n",
       "    </tr>\n",
       "    <tr>\n",
       "      <th>1</th>\n",
       "      <td>體育</td>\n",
       "      <td>最 優秀 選手 無緣 亞運會 健美 賽   　           健美 在 亞洲 運動會 ...</td>\n",
       "    </tr>\n",
       "    <tr>\n",
       "      <th>2</th>\n",
       "      <td>體育</td>\n",
       "      <td>帆   板   運   動   簡   介 （ 二 ） 　 　 我國 在 79 年 由 國家...</td>\n",
       "    </tr>\n",
       "    <tr>\n",
       "      <th>3</th>\n",
       "      <td>體育</td>\n",
       "      <td>男子 健美 初登亞 運會   中國 猛男 直指 前 三   　           在 即將...</td>\n",
       "    </tr>\n",
       "    <tr>\n",
       "      <th>4</th>\n",
       "      <td>體育</td>\n",
       "      <td>不解 之 謎 　 　 第 2 屆 奧運會 在 法國 巴黎 舉行 。 這次 奧運會 的 馬 拉...</td>\n",
       "    </tr>\n",
       "    <tr>\n",
       "      <th>5</th>\n",
       "      <td>體育</td>\n",
       "      <td>亞運會 游泳 賽中國 臺 北隊 改寫 歷史 　 　 　 　 新華社 曼谷 １ ２ 月...</td>\n",
       "    </tr>\n",
       "    <tr>\n",
       "      <th>6</th>\n",
       "      <td>體育</td>\n",
       "      <td>中國 青島 － 韓國 大邱 健美 表演 賽 和 對 抗賽 將舉 辦   　         ...</td>\n",
       "    </tr>\n",
       "    <tr>\n",
       "      <th>...</th>\n",
       "      <td>...</td>\n",
       "      <td>...</td>\n",
       "    </tr>\n",
       "    <tr>\n",
       "      <th>94</th>\n",
       "      <td>經濟</td>\n",
       "      <td>日 月光 華   - -   Economics 精華區 文章 閱讀 - - - - - -...</td>\n",
       "    </tr>\n",
       "    <tr>\n",
       "      <th>95</th>\n",
       "      <td>經濟</td>\n",
       "      <td>日 月光 華   - -   Economics 精華區 文章 閱讀 - - - - - -...</td>\n",
       "    </tr>\n",
       "    <tr>\n",
       "      <th>96</th>\n",
       "      <td>經濟</td>\n",
       "      <td>日 月光 華   - -   Economics 精華區 文章 閱讀 - - - - - -...</td>\n",
       "    </tr>\n",
       "    <tr>\n",
       "      <th>97</th>\n",
       "      <td>經濟</td>\n",
       "      <td>日 月光 華   - -   Economics 精華區 文章 閱讀 - - - - - -...</td>\n",
       "    </tr>\n",
       "    <tr>\n",
       "      <th>98</th>\n",
       "      <td>經濟</td>\n",
       "      <td>日 月光 華   - -   Economics 精華區 文章 閱讀 - - - - - -...</td>\n",
       "    </tr>\n",
       "    <tr>\n",
       "      <th>99</th>\n",
       "      <td>經濟</td>\n",
       "      <td>日 月光 華   - -   Economics 精華區 文章 閱讀 - - - - - -...</td>\n",
       "    </tr>\n",
       "    <tr>\n",
       "      <th>100</th>\n",
       "      <td>經濟</td>\n",
       "      <td>日 月光 華   - -   Economics 精華區 文章 閱讀 - - - - - -...</td>\n",
       "    </tr>\n",
       "  </tbody>\n",
       "</table>\n",
       "<p>101 rows × 2 columns</p>\n",
       "</div>"
      ],
      "text/plain": [
       "     類別                                                 內容\n",
       "0    體育    各國 記者 眼中 的 羽毛球 世錦賽   - - - - - - - - - - - -...\n",
       "1    體育  最 優秀 選手 無緣 亞運會 健美 賽   　           健美 在 亞洲 運動會 ...\n",
       "2    體育  帆   板   運   動   簡   介 （ 二 ） 　 　 我國 在 79 年 由 國家...\n",
       "3    體育  男子 健美 初登亞 運會   中國 猛男 直指 前 三   　           在 即將...\n",
       "4    體育  不解 之 謎 　 　 第 2 屆 奧運會 在 法國 巴黎 舉行 。 這次 奧運會 的 馬 拉...\n",
       "5    體育  　 　 亞運會 游泳 賽中國 臺 北隊 改寫 歷史 　 　 　 　 新華社 曼谷 １ ２ 月...\n",
       "6    體育  中國 青島 － 韓國 大邱 健美 表演 賽 和 對 抗賽 將舉 辦   　         ...\n",
       "..   ..                                                ...\n",
       "94   經濟  日 月光 華   - -   Economics 精華區 文章 閱讀 - - - - - -...\n",
       "95   經濟  日 月光 華   - -   Economics 精華區 文章 閱讀 - - - - - -...\n",
       "96   經濟  日 月光 華   - -   Economics 精華區 文章 閱讀 - - - - - -...\n",
       "97   經濟  日 月光 華   - -   Economics 精華區 文章 閱讀 - - - - - -...\n",
       "98   經濟  日 月光 華   - -   Economics 精華區 文章 閱讀 - - - - - -...\n",
       "99   經濟  日 月光 華   - -   Economics 精華區 文章 閱讀 - - - - - -...\n",
       "100  經濟  日 月光 華   - -   Economics 精華區 文章 閱讀 - - - - - -...\n",
       "\n",
       "[101 rows x 2 columns]"
      ]
     },
     "execution_count": 13,
     "metadata": {},
     "output_type": "execute_result"
    }
   ],
   "source": [
    "test_df"
   ]
  },
  {
   "cell_type": "markdown",
   "metadata": {},
   "source": [
    "這邊必須使用剛剛存起來的字典來替換，因為如果直接使用 code 可能會發生沒對照到的事故。"
   ]
  },
  {
   "cell_type": "code",
   "execution_count": 14,
   "metadata": {},
   "outputs": [],
   "source": [
    "test_df['類別'] = test_df['類別'].replace(saved_map)"
   ]
  },
  {
   "cell_type": "code",
   "execution_count": 15,
   "metadata": {},
   "outputs": [
    {
     "data": {
      "text/html": [
       "<div>\n",
       "<style scoped>\n",
       "    .dataframe tbody tr th:only-of-type {\n",
       "        vertical-align: middle;\n",
       "    }\n",
       "\n",
       "    .dataframe tbody tr th {\n",
       "        vertical-align: top;\n",
       "    }\n",
       "\n",
       "    .dataframe thead th {\n",
       "        text-align: right;\n",
       "    }\n",
       "</style>\n",
       "<table border=\"1\" class=\"dataframe\">\n",
       "  <thead>\n",
       "    <tr style=\"text-align: right;\">\n",
       "      <th></th>\n",
       "      <th>類別</th>\n",
       "      <th>內容</th>\n",
       "    </tr>\n",
       "  </thead>\n",
       "  <tbody>\n",
       "    <tr>\n",
       "      <th>0</th>\n",
       "      <td>9</td>\n",
       "      <td>各國 記者 眼中 的 羽毛球 世錦賽   - - - - - - - - - - - -...</td>\n",
       "    </tr>\n",
       "    <tr>\n",
       "      <th>1</th>\n",
       "      <td>9</td>\n",
       "      <td>最 優秀 選手 無緣 亞運會 健美 賽   　           健美 在 亞洲 運動會 ...</td>\n",
       "    </tr>\n",
       "    <tr>\n",
       "      <th>2</th>\n",
       "      <td>9</td>\n",
       "      <td>帆   板   運   動   簡   介 （ 二 ） 　 　 我國 在 79 年 由 國家...</td>\n",
       "    </tr>\n",
       "    <tr>\n",
       "      <th>3</th>\n",
       "      <td>9</td>\n",
       "      <td>男子 健美 初登亞 運會   中國 猛男 直指 前 三   　           在 即將...</td>\n",
       "    </tr>\n",
       "    <tr>\n",
       "      <th>4</th>\n",
       "      <td>9</td>\n",
       "      <td>不解 之 謎 　 　 第 2 屆 奧運會 在 法國 巴黎 舉行 。 這次 奧運會 的 馬 拉...</td>\n",
       "    </tr>\n",
       "    <tr>\n",
       "      <th>5</th>\n",
       "      <td>9</td>\n",
       "      <td>亞運會 游泳 賽中國 臺 北隊 改寫 歷史 　 　 　 　 新華社 曼谷 １ ２ 月...</td>\n",
       "    </tr>\n",
       "    <tr>\n",
       "      <th>6</th>\n",
       "      <td>9</td>\n",
       "      <td>中國 青島 － 韓國 大邱 健美 表演 賽 和 對 抗賽 將舉 辦   　         ...</td>\n",
       "    </tr>\n",
       "    <tr>\n",
       "      <th>...</th>\n",
       "      <td>...</td>\n",
       "      <td>...</td>\n",
       "    </tr>\n",
       "    <tr>\n",
       "      <th>94</th>\n",
       "      <td>4</td>\n",
       "      <td>日 月光 華   - -   Economics 精華區 文章 閱讀 - - - - - -...</td>\n",
       "    </tr>\n",
       "    <tr>\n",
       "      <th>95</th>\n",
       "      <td>4</td>\n",
       "      <td>日 月光 華   - -   Economics 精華區 文章 閱讀 - - - - - -...</td>\n",
       "    </tr>\n",
       "    <tr>\n",
       "      <th>96</th>\n",
       "      <td>4</td>\n",
       "      <td>日 月光 華   - -   Economics 精華區 文章 閱讀 - - - - - -...</td>\n",
       "    </tr>\n",
       "    <tr>\n",
       "      <th>97</th>\n",
       "      <td>4</td>\n",
       "      <td>日 月光 華   - -   Economics 精華區 文章 閱讀 - - - - - -...</td>\n",
       "    </tr>\n",
       "    <tr>\n",
       "      <th>98</th>\n",
       "      <td>4</td>\n",
       "      <td>日 月光 華   - -   Economics 精華區 文章 閱讀 - - - - - -...</td>\n",
       "    </tr>\n",
       "    <tr>\n",
       "      <th>99</th>\n",
       "      <td>4</td>\n",
       "      <td>日 月光 華   - -   Economics 精華區 文章 閱讀 - - - - - -...</td>\n",
       "    </tr>\n",
       "    <tr>\n",
       "      <th>100</th>\n",
       "      <td>4</td>\n",
       "      <td>日 月光 華   - -   Economics 精華區 文章 閱讀 - - - - - -...</td>\n",
       "    </tr>\n",
       "  </tbody>\n",
       "</table>\n",
       "<p>101 rows × 2 columns</p>\n",
       "</div>"
      ],
      "text/plain": [
       "     類別                                                 內容\n",
       "0     9    各國 記者 眼中 的 羽毛球 世錦賽   - - - - - - - - - - - -...\n",
       "1     9  最 優秀 選手 無緣 亞運會 健美 賽   　           健美 在 亞洲 運動會 ...\n",
       "2     9  帆   板   運   動   簡   介 （ 二 ） 　 　 我國 在 79 年 由 國家...\n",
       "3     9  男子 健美 初登亞 運會   中國 猛男 直指 前 三   　           在 即將...\n",
       "4     9  不解 之 謎 　 　 第 2 屆 奧運會 在 法國 巴黎 舉行 。 這次 奧運會 的 馬 拉...\n",
       "5     9  　 　 亞運會 游泳 賽中國 臺 北隊 改寫 歷史 　 　 　 　 新華社 曼谷 １ ２ 月...\n",
       "6     9  中國 青島 － 韓國 大邱 健美 表演 賽 和 對 抗賽 將舉 辦   　         ...\n",
       "..   ..                                                ...\n",
       "94    4  日 月光 華   - -   Economics 精華區 文章 閱讀 - - - - - -...\n",
       "95    4  日 月光 華   - -   Economics 精華區 文章 閱讀 - - - - - -...\n",
       "96    4  日 月光 華   - -   Economics 精華區 文章 閱讀 - - - - - -...\n",
       "97    4  日 月光 華   - -   Economics 精華區 文章 閱讀 - - - - - -...\n",
       "98    4  日 月光 華   - -   Economics 精華區 文章 閱讀 - - - - - -...\n",
       "99    4  日 月光 華   - -   Economics 精華區 文章 閱讀 - - - - - -...\n",
       "100   4  日 月光 華   - -   Economics 精華區 文章 閱讀 - - - - - -...\n",
       "\n",
       "[101 rows x 2 columns]"
      ]
     },
     "execution_count": 15,
     "metadata": {},
     "output_type": "execute_result"
    }
   ],
   "source": [
    "test_df"
   ]
  },
  {
   "cell_type": "code",
   "execution_count": 16,
   "metadata": {},
   "outputs": [
    {
     "name": "stdout",
     "output_type": "stream",
     "text": [
      "總共維度: 96042\n"
     ]
    }
   ],
   "source": [
    "from sklearn.feature_extraction.text import TfidfVectorizer\n",
    "vec = TfidfVectorizer()\n",
    "# 注意一定要使用 fit_transform ,才會幫你轉換成詞向量\n",
    "bag = vec.fit_transform(df['內容'])\n",
    "print(\"總共維度:\", len(vec.get_feature_names()))"
   ]
  },
  {
   "cell_type": "code",
   "execution_count": 17,
   "metadata": {
    "scrolled": true
   },
   "outputs": [],
   "source": [
    "# 可以看到 transform 後的 matrix\n",
    "#for entry in bag:\n",
    "#    print(entry)"
   ]
  },
  {
   "cell_type": "markdown",
   "metadata": {},
   "source": [
    "scikit-learn 單純貝氏\n",
    "1.BernoulliNB: 對於特徵是 True 和 False 二分法優化。\n",
    "2.GaussianNB: 對於特徵是高斯分布的連續數字優化。\n",
    "3.MultinomialNB: 對於特徵是整數,而且是數幾次的分布優化,不過使用就算使用 tf-idf 分數一樣可以達到很好效果。"
   ]
  },
  {
   "cell_type": "code",
   "execution_count": 18,
   "metadata": {},
   "outputs": [],
   "source": [
    "# 只要是文字, 我們通常就會選擇 MultinomialNB\n",
    "from sklearn.naive_bayes import MultinomialNB\n",
    "clf = MultinomialNB(alpha = 0.001).fit(bag, df['類別'])"
   ]
  },
  {
   "cell_type": "code",
   "execution_count": 19,
   "metadata": {},
   "outputs": [
    {
     "name": "stdout",
     "output_type": "stream",
     "text": [
      "維度: 96042\n"
     ]
    }
   ],
   "source": [
    "# 由於我們用剛剛的 vec 訓練他, 所以維度會保持跟剛剛一樣\n",
    "test_bag = vec.transform(test_df['內容'])\n",
    "print(\"維度:\", len(vec.get_feature_names()))"
   ]
  },
  {
   "cell_type": "code",
   "execution_count": 20,
   "metadata": {},
   "outputs": [
    {
     "name": "stdout",
     "output_type": "stream",
     "text": [
      "預測: [9, 9, 9, 9, 9, 9, 9, 9, 9, 9, 2, 2, 2, 2, 2, 2, 2, 2, 2, 2, 5, 5, 5, 5, 5, 5, 5, 5, 5, 5, 3, 3, 3, 3, 3, 3, 3, 3, 3, 3, 8, 8, 8, 8, 8, 8, 8, 8, 8, 8, 1, 1, 1, 1, 1, 1, 1, 1, 1, 1, 1, 7, 7, 7, 7, 7, 7, 7, 7, 7, 7, 0, 0, 0, 0, 0, 0, 0, 0, 0, 0, 6, 6, 6, 6, 6, 6, 6, 6, 6, 6, 4, 4, 4, 4, 4, 4, 4, 4, 4, 4]\n",
      "正確標籤: [9, 9, 9, 9, 9, 9, 9, 9, 9, 9, 2, 2, 2, 2, 2, 2, 2, 2, 2, 2, 5, 5, 5, 5, 5, 5, 5, 5, 5, 5, 3, 3, 3, 3, 3, 3, 3, 3, 3, 3, 8, 8, 8, 8, 8, 8, 8, 8, 8, 8, 1, 1, 1, 1, 1, 1, 1, 1, 1, 1, 1, 7, 7, 7, 7, 7, 7, 7, 7, 7, 7, 0, 0, 0, 0, 0, 0, 0, 0, 0, 0, 6, 6, 6, 6, 6, 6, 6, 6, 6, 6, 4, 4, 4, 4, 4, 4, 4, 4, 4, 4]\n",
      "Naive-Bayes 正確率:  100.0 %\n"
     ]
    }
   ],
   "source": [
    "from sklearn.metrics import accuracy_score\n",
    "\n",
    "predict = clf.predict(test_bag)\n",
    "print(\"預測:\", list(predict))\n",
    "print(\"正確標籤:\", list(test_df['類別']))\n",
    "print(\"Naive-Bayes 正確率: \", accuracy_score(test_df['類別'], predict) * 100, \"%\")"
   ]
  },
  {
   "cell_type": "code",
   "execution_count": 21,
   "metadata": {},
   "outputs": [
    {
     "name": "stdout",
     "output_type": "stream",
     "text": [
      "預測: [9, 9, 9, 9, 9, 9, 9, 9, 9, 9, 2, 2, 2, 2, 2, 2, 2, 2, 2, 2, 5, 5, 5, 5, 5, 5, 5, 5, 5, 5, 3, 3, 3, 3, 3, 3, 3, 3, 3, 3, 8, 8, 8, 8, 8, 8, 8, 8, 8, 8, 1, 1, 1, 1, 1, 1, 1, 1, 1, 1, 1, 7, 7, 7, 7, 7, 7, 7, 7, 7, 7, 0, 0, 0, 0, 0, 0, 0, 0, 0, 0, 6, 6, 6, 6, 6, 6, 6, 6, 6, 6, 4, 4, 4, 4, 4, 4, 4, 4, 4, 4]\n",
      "正確標籤: [9, 9, 9, 9, 9, 9, 9, 9, 9, 9, 2, 2, 2, 2, 2, 2, 2, 2, 2, 2, 5, 5, 5, 5, 5, 5, 5, 5, 5, 5, 3, 3, 3, 3, 3, 3, 3, 3, 3, 3, 8, 8, 8, 8, 8, 8, 8, 8, 8, 8, 1, 1, 1, 1, 1, 1, 1, 1, 1, 1, 1, 7, 7, 7, 7, 7, 7, 7, 7, 7, 7, 0, 0, 0, 0, 0, 0, 0, 0, 0, 0, 6, 6, 6, 6, 6, 6, 6, 6, 6, 6, 4, 4, 4, 4, 4, 4, 4, 4, 4, 4]\n",
      "kNN 正確率:  100.0 %\n"
     ]
    }
   ],
   "source": [
    "from sklearn import neighbors\n",
    "\n",
    "clf = neighbors.KNeighborsClassifier(n_neighbors=8)\n",
    "clf = clf.fit(bag, df['類別'])\n",
    "predict = clf.predict(test_bag)\n",
    "print(\"預測:\", list(predict))\n",
    "print(\"正確標籤:\", list(test_df['類別']))\n",
    "print(\"kNN 正確率: \", accuracy_score(test_df['類別'], predict) * 100, \"%\")"
   ]
  }
 ],
 "metadata": {
  "kernelspec": {
   "display_name": "Python 3",
   "language": "python",
   "name": "python3"
  },
  "language_info": {
   "codemirror_mode": {
    "name": "ipython",
    "version": 3
   },
   "file_extension": ".py",
   "mimetype": "text/x-python",
   "name": "python",
   "nbconvert_exporter": "python",
   "pygments_lexer": "ipython3",
   "version": "3.6.7"
  }
 },
 "nbformat": 4,
 "nbformat_minor": 2
}
